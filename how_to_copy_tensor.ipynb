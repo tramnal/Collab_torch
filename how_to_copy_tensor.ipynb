{
  "nbformat": 4,
  "nbformat_minor": 0,
  "metadata": {
    "colab": {
      "provenance": [],
      "authorship_tag": "ABX9TyNAQdx/+tpFlWQrvrwOBixK",
      "include_colab_link": true
    },
    "kernelspec": {
      "name": "python3",
      "display_name": "Python 3"
    },
    "language_info": {
      "name": "python"
    }
  },
  "cells": [
    {
      "cell_type": "markdown",
      "metadata": {
        "id": "view-in-github",
        "colab_type": "text"
      },
      "source": [
        "<a href=\"https://colab.research.google.com/github/tramnal/Collab_torch/blob/main/how_to_copy_tensor.ipynb\" target=\"_parent\"><img src=\"https://colab.research.google.com/assets/colab-badge.svg\" alt=\"Open In Colab\"/></a>"
      ]
    },
    {
      "cell_type": "code",
      "execution_count": 1,
      "metadata": {
        "id": "Mo4VQ_hYVffJ"
      },
      "outputs": [],
      "source": [
        "import torch"
      ]
    },
    {
      "cell_type": "code",
      "source": [
        "x = torch.Tensor([[1, 2, 3, 4],\n",
        "                  [5, 6, 7, 8],\n",
        "                  [9, 10, 11, 12]])"
      ],
      "metadata": {
        "id": "x8NXCeuvVkl-"
      },
      "execution_count": 2,
      "outputs": []
    },
    {
      "cell_type": "code",
      "source": [
        "y = x"
      ],
      "metadata": {
        "id": "7yLjV1SPVuB2"
      },
      "execution_count": 3,
      "outputs": []
    },
    {
      "cell_type": "code",
      "source": [
        "y[0, 0] = 999"
      ],
      "metadata": {
        "id": "HjGBVw4vVwXA"
      },
      "execution_count": 4,
      "outputs": []
    },
    {
      "cell_type": "code",
      "source": [
        "print(x)\n",
        "print(y)"
      ],
      "metadata": {
        "colab": {
          "base_uri": "https://localhost:8080/"
        },
        "id": "GOhGICX5Vz0f",
        "outputId": "919046dd-f0b4-4785-b4ce-ed0cca8baf08"
      },
      "execution_count": 5,
      "outputs": [
        {
          "output_type": "stream",
          "name": "stdout",
          "text": [
            "tensor([[999.,   2.,   3.,   4.],\n",
            "        [  5.,   6.,   7.,   8.],\n",
            "        [  9.,  10.,  11.,  12.]])\n",
            "tensor([[999.,   2.,   3.,   4.],\n",
            "        [  5.,   6.,   7.,   8.],\n",
            "        [  9.,  10.,  11.,  12.]])\n"
          ]
        }
      ]
    },
    {
      "cell_type": "code",
      "source": [
        "x = torch.Tensor([[1, 2, 3, 4],\n",
        "                  [5, 6, 7, 8],\n",
        "                  [9, 10, 11, 12]])"
      ],
      "metadata": {
        "id": "_qOQEgJBV53b"
      },
      "execution_count": 6,
      "outputs": []
    },
    {
      "cell_type": "code",
      "source": [
        "y = x.clone()\n",
        "y[0, 0] = 999\n",
        "print(x)\n",
        "print(y)"
      ],
      "metadata": {
        "colab": {
          "base_uri": "https://localhost:8080/"
        },
        "id": "ET4RYTl5V7U0",
        "outputId": "91178a3c-059e-4a2a-9f0a-9c06edb43aad"
      },
      "execution_count": 7,
      "outputs": [
        {
          "output_type": "stream",
          "name": "stdout",
          "text": [
            "tensor([[ 1.,  2.,  3.,  4.],\n",
            "        [ 5.,  6.,  7.,  8.],\n",
            "        [ 9., 10., 11., 12.]])\n",
            "tensor([[999.,   2.,   3.,   4.],\n",
            "        [  5.,   6.,   7.,   8.],\n",
            "        [  9.,  10.,  11.,  12.]])\n"
          ]
        }
      ]
    }
  ]
}